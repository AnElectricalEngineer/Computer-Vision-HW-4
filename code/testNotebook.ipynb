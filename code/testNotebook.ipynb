{
 "cells": [
  {
   "cell_type": "code",
   "execution_count": 2,
   "metadata": {
    "pycharm": {
     "name": "#%%\n"
    }
   },
   "outputs": [],
   "source": [
    "import my_homography\n",
    "import numpy as np\n",
    "import matplotlib.pyplot as plt\n",
    "import cv2\n",
    "import scipy\n",
    "from matplotlib import pyplot as plt\n",
    "from scipy import interpolate"
   ]
  },
  {
   "cell_type": "code",
   "execution_count": null,
   "metadata": {
    "pycharm": {
     "is_executing": true,
     "name": "#%% Question 1 Part 1\n"
    }
   },
   "outputs": [
    {
     "name": "stderr",
     "output_type": "stream",
     "text": [
      "D:\\Technion\\Computer Vision Homework\\Computer-Vision-HW-4\\code\\my_homography.py:57: UserWarning: Matplotlib is currently using module://ipykernel.pylab.backend_inline, which is a non-GUI backend, so cannot show the figure.\n",
      "  p1.append(np.asarray(fig1.ginput(n=1, timeout=-1)[0]))\n"
     ]
    }
   ],
   "source": [
    "im1 = cv2.imread('data/incline_L.png')\n",
    "im1 = cv2.cvtColor(im1, cv2.COLOR_BGR2RGB)\n",
    "im2 = cv2.imread('data/incline_R.png')\n",
    "im2 = cv2.cvtColor(im2, cv2.COLOR_BGR2RGB)\n",
    "\n",
    "p1, p2 = my_homography.getPoints(im1, im2, 6)"
   ]
  },
  {
   "cell_type": "code",
   "execution_count": null,
   "metadata": {
    "pycharm": {
     "name": "#%% Question 1 Part 2\n",
     "is_executing": true
    }
   },
   "outputs": [],
   "source": [
    "p1 = np.array([[454.5436828, 511.94919355, 602.95793011, 623.95994624,\n",
    "                640.76155914, 612.75887097], [110.43200202, 111.83213642,\n",
    "                                              484.26788911, 481.4676203,\n",
    "                                              482.8677547, 197.24033535]])\n",
    "p2 = np.array([[118.05591398, 185.7, 294.24516129, 316.2688172,\n",
    "                335.14623656, 294.24516129],\n",
    "               [151.48032796, 154.62656452, 536.89430645, 535.32118817,\n",
    "                532.17495161, 244.29430645]])\n",
    "\n",
    "H = my_homography.computeH(p1, p2)"
   ]
  },
  {
   "cell_type": "code",
   "execution_count": null,
   "metadata": {
    "pycharm": {
     "name": "#%% Question 1 Part 3\n",
     "is_executing": true
    }
   },
   "outputs": [],
   "source": [
    "testWarped1 = my_homography.warpH(im1, np.linalg.inv(H), im2.shape,\n",
    "                      interpolation_type='linear')\n",
    "testWarped2 = my_homography.warpH(im1, np.linalg.inv(H), im2.shape,\n",
    "                      interpolation_type='cubic')\n",
    "\n",
    "fig, axes = plt.subplots(1, 2)\n",
    "axes[0].imshow(testWarped1)\n",
    "axes[1].imshow(testWarped2)\n",
    "#axes[0].set_title()\n",
    "axes[0].set_xticks([])\n",
    "axes[0].set_yticks([])\n",
    "axes[1].set_xticks([])\n",
    "axes[1].set_yticks([])\n",
    "\n",
    "#fig.suptitle('Section 1.1 - Frogs and Horses')\n",
    "#plt.savefig(f'{path}../output/Section 1.1 - Images From Trainset.png')\n",
    "\n",
    "# projectPoints(im1, im2, 6)\n",
    "\n"
   ]
  },
  {
   "cell_type": "code",
   "execution_count": null,
   "metadata": {
    "pycharm": {
     "is_executing": true
    }
   },
   "outputs": [],
   "source": [
    "stitchedImage = my_homography.imageStitching(im2, testWarped1)\n",
    "fig, axes = plt.subplots(1, 1)\n",
    "axes.imshow(stitchedImage)"
   ]
  },
  {
   "cell_type": "code",
   "execution_count": null,
   "metadata": {
    "pycharm": {
     "is_executing": true
    }
   },
   "outputs": [],
   "source": [
    "print(im2.shape)"
   ]
  },
  {
   "cell_type": "code",
   "execution_count": null,
   "metadata": {
    "pycharm": {
     "is_executing": true
    }
   },
   "outputs": [],
   "source": []
  }
 ],
 "metadata": {
  "kernelspec": {
   "name": "python3",
   "language": "python",
   "display_name": "Python 3"
  },
  "language_info": {
   "codemirror_mode": {
    "name": "ipython",
    "version": 3
   },
   "file_extension": ".py",
   "mimetype": "text/x-python",
   "name": "python",
   "nbconvert_exporter": "python",
   "pygments_lexer": "ipython3",
   "version": "3.6.13"
  }
 },
 "nbformat": 4,
 "nbformat_minor": 1
}